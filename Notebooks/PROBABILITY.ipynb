{
 "cells": [
  {
   "metadata": {},
   "cell_type": "markdown",
   "source": [
    "# PROBABILITY — DA/ML CONTEXT\n",
    "* What is Probability in DA/ML?\n",
    "Probability models the uncertainty in data. It's the backbone of:\n",
    "\n",
    "Classification models (Logistic Regression predicts probability)\n",
    "\n",
    "Anomaly detection (Low-probability events)\n",
    "\n",
    "A/B testing (Significance of observed differences)\n",
    "\n",
    "Data Engineering (Event-stream filtering, risk scoring, simulations)"
   ],
   "id": "e3b99f2f28104af1"
  },
  {
   "metadata": {},
   "cell_type": "markdown",
   "source": "Empirical Probability via Simulation",
   "id": "9ff0bd40cf73ce8a"
  },
  {
   "metadata": {
    "ExecuteTime": {
     "end_time": "2025-07-25T04:58:54.455458200Z",
     "start_time": "2025-07-24T19:40:50.437430Z"
    }
   },
   "cell_type": "code",
   "source": [
    "import numpy as np\n",
    "import pandas as pd"
   ],
   "id": "54427a8078259422",
   "outputs": [],
   "execution_count": 6
  },
  {
   "metadata": {
    "collapsed": true,
    "ExecuteTime": {
     "end_time": "2025-07-25T04:58:54.479529300Z",
     "start_time": "2025-07-24T19:40:50.455371Z"
    }
   },
   "cell_type": "code",
   "source": [
    "#Simulate a coin toss and calculate the probability of heads.\n",
    "\n",
    "# Simulate 10,000 coin tosses\n",
    "tosses=np.random.choice([\"Head\",\"Tail\"],size=10000)\n",
    "\n",
    "# Calculate probability of heads\n",
    "p_head=np.mean(tosses==\"Head\")\n",
    "print(f\"Empirical P(Head) : {p_head : .2f}\")"
   ],
   "id": "initial_id",
   "outputs": [
    {
     "name": "stdout",
     "output_type": "stream",
     "text": [
      "Empirical P(Head) :  0.51\n"
     ]
    }
   ],
   "execution_count": 7
  },
  {
   "metadata": {},
   "cell_type": "markdown",
   "source": "# Probability from Business Data",
   "id": "ac6dca2f6b610590"
  },
  {
   "metadata": {
    "ExecuteTime": {
     "end_time": "2025-07-25T04:58:54.481530300Z",
     "start_time": "2025-07-24T19:40:50.490627Z"
    }
   },
   "cell_type": "code",
   "source": [
    "#Use a customer dataset to compute purchase probability.\n",
    "df=pd.DataFrame({\n",
    "    'visited_deals':[1,0,1,1,0,1,0,1],\n",
    "    'purchased': [1,0,1,0,0,1,0,1]\n",
    "})\n",
    "# p(Purchase | Visited Deals)\n",
    "prob=df[df[\"visited_deals\"]== 1]['purchased'].mean()\n",
    "print(f\"P(Purchase | Visited_Deals_Page):{prob:.2f}\")\n",
    "#Useful in conversion rate analysis or churn modeling."
   ],
   "id": "9999e3815c303844",
   "outputs": [
    {
     "name": "stdout",
     "output_type": "stream",
     "text": [
      "P(Purchase | Visited_Deals_Page):0.80\n"
     ]
    }
   ],
   "execution_count": 8
  },
  {
   "metadata": {},
   "cell_type": "markdown",
   "source": "# ML-Style Probability Outputs",
   "id": "c2c0dfdd6a368908"
  },
  {
   "metadata": {
    "ExecuteTime": {
     "end_time": "2025-07-25T04:58:54.493994700Z",
     "start_time": "2025-07-24T19:40:50.544854Z"
    }
   },
   "cell_type": "code",
   "source": [
    "from sklearn.linear_model import LogisticRegression\n",
    "from sklearn.datasets import make_classification"
   ],
   "id": "201c941d68f958c5",
   "outputs": [],
   "execution_count": 9
  },
  {
   "metadata": {
    "ExecuteTime": {
     "end_time": "2025-07-25T04:58:54.494993700Z",
     "start_time": "2025-07-24T19:40:51.064973Z"
    }
   },
   "cell_type": "code",
   "source": [
    "# Create sample binary classification datasett\n",
    "X, y = make_classification(n_samples=500, # Number of rows (samples)\n",
    "                           n_features=3, # Total features (columns)\n",
    "                           n_informative=2, # How many features actually carry signal\n",
    "                           n_redundant=0, # How many are linear combos of informative\n",
    "                           random_state=42) # Ensures reproducibility\n",
    "\n",
    "# Train logistic regression model\n",
    "clf = LogisticRegression()\n",
    "clf.fit(X, y)\n",
    "\n",
    "# Predict class probabilities\n",
    "probs = clf.predict_proba(X[:5])\n",
    "print(probs)\n",
    "#This simulates how models return class probabilities, directly tied to the idea of conditional probability in action.\n",
    "\n",
    "# Fit a Logistic Regression Model\n",
    "clf = LogisticRegression()  # Create the model\n",
    "clf.fit(X, y)               # Train on the features and labels"
   ],
   "id": "d6d4e27c9f704c18",
   "outputs": [
    {
     "name": "stdout",
     "output_type": "stream",
     "text": [
      "[[0.03545997 0.96454003]\n",
      " [0.02624189 0.97375811]\n",
      " [0.06365104 0.93634896]\n",
      " [0.98285495 0.01714505]\n",
      " [0.9323747  0.0676253 ]]\n"
     ]
    },
    {
     "data": {
      "text/plain": [
       "LogisticRegression()"
      ],
      "text/html": [
       "<style>#sk-container-id-1 {\n",
       "  /* Definition of color scheme common for light and dark mode */\n",
       "  --sklearn-color-text: #000;\n",
       "  --sklearn-color-text-muted: #666;\n",
       "  --sklearn-color-line: gray;\n",
       "  /* Definition of color scheme for unfitted estimators */\n",
       "  --sklearn-color-unfitted-level-0: #fff5e6;\n",
       "  --sklearn-color-unfitted-level-1: #f6e4d2;\n",
       "  --sklearn-color-unfitted-level-2: #ffe0b3;\n",
       "  --sklearn-color-unfitted-level-3: chocolate;\n",
       "  /* Definition of color scheme for fitted estimators */\n",
       "  --sklearn-color-fitted-level-0: #f0f8ff;\n",
       "  --sklearn-color-fitted-level-1: #d4ebff;\n",
       "  --sklearn-color-fitted-level-2: #b3dbfd;\n",
       "  --sklearn-color-fitted-level-3: cornflowerblue;\n",
       "\n",
       "  /* Specific color for light theme */\n",
       "  --sklearn-color-text-on-default-background: var(--sg-text-color, var(--theme-code-foreground, var(--jp-content-font-color1, black)));\n",
       "  --sklearn-color-background: var(--sg-background-color, var(--theme-background, var(--jp-layout-color0, white)));\n",
       "  --sklearn-color-border-box: var(--sg-text-color, var(--theme-code-foreground, var(--jp-content-font-color1, black)));\n",
       "  --sklearn-color-icon: #696969;\n",
       "\n",
       "  @media (prefers-color-scheme: dark) {\n",
       "    /* Redefinition of color scheme for dark theme */\n",
       "    --sklearn-color-text-on-default-background: var(--sg-text-color, var(--theme-code-foreground, var(--jp-content-font-color1, white)));\n",
       "    --sklearn-color-background: var(--sg-background-color, var(--theme-background, var(--jp-layout-color0, #111)));\n",
       "    --sklearn-color-border-box: var(--sg-text-color, var(--theme-code-foreground, var(--jp-content-font-color1, white)));\n",
       "    --sklearn-color-icon: #878787;\n",
       "  }\n",
       "}\n",
       "\n",
       "#sk-container-id-1 {\n",
       "  color: var(--sklearn-color-text);\n",
       "}\n",
       "\n",
       "#sk-container-id-1 pre {\n",
       "  padding: 0;\n",
       "}\n",
       "\n",
       "#sk-container-id-1 input.sk-hidden--visually {\n",
       "  border: 0;\n",
       "  clip: rect(1px 1px 1px 1px);\n",
       "  clip: rect(1px, 1px, 1px, 1px);\n",
       "  height: 1px;\n",
       "  margin: -1px;\n",
       "  overflow: hidden;\n",
       "  padding: 0;\n",
       "  position: absolute;\n",
       "  width: 1px;\n",
       "}\n",
       "\n",
       "#sk-container-id-1 div.sk-dashed-wrapped {\n",
       "  border: 1px dashed var(--sklearn-color-line);\n",
       "  margin: 0 0.4em 0.5em 0.4em;\n",
       "  box-sizing: border-box;\n",
       "  padding-bottom: 0.4em;\n",
       "  background-color: var(--sklearn-color-background);\n",
       "}\n",
       "\n",
       "#sk-container-id-1 div.sk-container {\n",
       "  /* jupyter's `normalize.less` sets `[hidden] { display: none; }`\n",
       "     but bootstrap.min.css set `[hidden] { display: none !important; }`\n",
       "     so we also need the `!important` here to be able to override the\n",
       "     default hidden behavior on the sphinx rendered scikit-learn.org.\n",
       "     See: https://github.com/scikit-learn/scikit-learn/issues/21755 */\n",
       "  display: inline-block !important;\n",
       "  position: relative;\n",
       "}\n",
       "\n",
       "#sk-container-id-1 div.sk-text-repr-fallback {\n",
       "  display: none;\n",
       "}\n",
       "\n",
       "div.sk-parallel-item,\n",
       "div.sk-serial,\n",
       "div.sk-item {\n",
       "  /* draw centered vertical line to link estimators */\n",
       "  background-image: linear-gradient(var(--sklearn-color-text-on-default-background), var(--sklearn-color-text-on-default-background));\n",
       "  background-size: 2px 100%;\n",
       "  background-repeat: no-repeat;\n",
       "  background-position: center center;\n",
       "}\n",
       "\n",
       "/* Parallel-specific style estimator block */\n",
       "\n",
       "#sk-container-id-1 div.sk-parallel-item::after {\n",
       "  content: \"\";\n",
       "  width: 100%;\n",
       "  border-bottom: 2px solid var(--sklearn-color-text-on-default-background);\n",
       "  flex-grow: 1;\n",
       "}\n",
       "\n",
       "#sk-container-id-1 div.sk-parallel {\n",
       "  display: flex;\n",
       "  align-items: stretch;\n",
       "  justify-content: center;\n",
       "  background-color: var(--sklearn-color-background);\n",
       "  position: relative;\n",
       "}\n",
       "\n",
       "#sk-container-id-1 div.sk-parallel-item {\n",
       "  display: flex;\n",
       "  flex-direction: column;\n",
       "}\n",
       "\n",
       "#sk-container-id-1 div.sk-parallel-item:first-child::after {\n",
       "  align-self: flex-end;\n",
       "  width: 50%;\n",
       "}\n",
       "\n",
       "#sk-container-id-1 div.sk-parallel-item:last-child::after {\n",
       "  align-self: flex-start;\n",
       "  width: 50%;\n",
       "}\n",
       "\n",
       "#sk-container-id-1 div.sk-parallel-item:only-child::after {\n",
       "  width: 0;\n",
       "}\n",
       "\n",
       "/* Serial-specific style estimator block */\n",
       "\n",
       "#sk-container-id-1 div.sk-serial {\n",
       "  display: flex;\n",
       "  flex-direction: column;\n",
       "  align-items: center;\n",
       "  background-color: var(--sklearn-color-background);\n",
       "  padding-right: 1em;\n",
       "  padding-left: 1em;\n",
       "}\n",
       "\n",
       "\n",
       "/* Toggleable style: style used for estimator/Pipeline/ColumnTransformer box that is\n",
       "clickable and can be expanded/collapsed.\n",
       "- Pipeline and ColumnTransformer use this feature and define the default style\n",
       "- Estimators will overwrite some part of the style using the `sk-estimator` class\n",
       "*/\n",
       "\n",
       "/* Pipeline and ColumnTransformer style (default) */\n",
       "\n",
       "#sk-container-id-1 div.sk-toggleable {\n",
       "  /* Default theme specific background. It is overwritten whether we have a\n",
       "  specific estimator or a Pipeline/ColumnTransformer */\n",
       "  background-color: var(--sklearn-color-background);\n",
       "}\n",
       "\n",
       "/* Toggleable label */\n",
       "#sk-container-id-1 label.sk-toggleable__label {\n",
       "  cursor: pointer;\n",
       "  display: flex;\n",
       "  width: 100%;\n",
       "  margin-bottom: 0;\n",
       "  padding: 0.5em;\n",
       "  box-sizing: border-box;\n",
       "  text-align: center;\n",
       "  align-items: start;\n",
       "  justify-content: space-between;\n",
       "  gap: 0.5em;\n",
       "}\n",
       "\n",
       "#sk-container-id-1 label.sk-toggleable__label .caption {\n",
       "  font-size: 0.6rem;\n",
       "  font-weight: lighter;\n",
       "  color: var(--sklearn-color-text-muted);\n",
       "}\n",
       "\n",
       "#sk-container-id-1 label.sk-toggleable__label-arrow:before {\n",
       "  /* Arrow on the left of the label */\n",
       "  content: \"▸\";\n",
       "  float: left;\n",
       "  margin-right: 0.25em;\n",
       "  color: var(--sklearn-color-icon);\n",
       "}\n",
       "\n",
       "#sk-container-id-1 label.sk-toggleable__label-arrow:hover:before {\n",
       "  color: var(--sklearn-color-text);\n",
       "}\n",
       "\n",
       "/* Toggleable content - dropdown */\n",
       "\n",
       "#sk-container-id-1 div.sk-toggleable__content {\n",
       "  display: none;\n",
       "  text-align: left;\n",
       "  /* unfitted */\n",
       "  background-color: var(--sklearn-color-unfitted-level-0);\n",
       "}\n",
       "\n",
       "#sk-container-id-1 div.sk-toggleable__content.fitted {\n",
       "  /* fitted */\n",
       "  background-color: var(--sklearn-color-fitted-level-0);\n",
       "}\n",
       "\n",
       "#sk-container-id-1 div.sk-toggleable__content pre {\n",
       "  margin: 0.2em;\n",
       "  border-radius: 0.25em;\n",
       "  color: var(--sklearn-color-text);\n",
       "  /* unfitted */\n",
       "  background-color: var(--sklearn-color-unfitted-level-0);\n",
       "}\n",
       "\n",
       "#sk-container-id-1 div.sk-toggleable__content.fitted pre {\n",
       "  /* unfitted */\n",
       "  background-color: var(--sklearn-color-fitted-level-0);\n",
       "}\n",
       "\n",
       "#sk-container-id-1 input.sk-toggleable__control:checked~div.sk-toggleable__content {\n",
       "  /* Expand drop-down */\n",
       "  display: block;\n",
       "  width: 100%;\n",
       "  overflow: visible;\n",
       "}\n",
       "\n",
       "#sk-container-id-1 input.sk-toggleable__control:checked~label.sk-toggleable__label-arrow:before {\n",
       "  content: \"▾\";\n",
       "}\n",
       "\n",
       "/* Pipeline/ColumnTransformer-specific style */\n",
       "\n",
       "#sk-container-id-1 div.sk-label input.sk-toggleable__control:checked~label.sk-toggleable__label {\n",
       "  color: var(--sklearn-color-text);\n",
       "  background-color: var(--sklearn-color-unfitted-level-2);\n",
       "}\n",
       "\n",
       "#sk-container-id-1 div.sk-label.fitted input.sk-toggleable__control:checked~label.sk-toggleable__label {\n",
       "  background-color: var(--sklearn-color-fitted-level-2);\n",
       "}\n",
       "\n",
       "/* Estimator-specific style */\n",
       "\n",
       "/* Colorize estimator box */\n",
       "#sk-container-id-1 div.sk-estimator input.sk-toggleable__control:checked~label.sk-toggleable__label {\n",
       "  /* unfitted */\n",
       "  background-color: var(--sklearn-color-unfitted-level-2);\n",
       "}\n",
       "\n",
       "#sk-container-id-1 div.sk-estimator.fitted input.sk-toggleable__control:checked~label.sk-toggleable__label {\n",
       "  /* fitted */\n",
       "  background-color: var(--sklearn-color-fitted-level-2);\n",
       "}\n",
       "\n",
       "#sk-container-id-1 div.sk-label label.sk-toggleable__label,\n",
       "#sk-container-id-1 div.sk-label label {\n",
       "  /* The background is the default theme color */\n",
       "  color: var(--sklearn-color-text-on-default-background);\n",
       "}\n",
       "\n",
       "/* On hover, darken the color of the background */\n",
       "#sk-container-id-1 div.sk-label:hover label.sk-toggleable__label {\n",
       "  color: var(--sklearn-color-text);\n",
       "  background-color: var(--sklearn-color-unfitted-level-2);\n",
       "}\n",
       "\n",
       "/* Label box, darken color on hover, fitted */\n",
       "#sk-container-id-1 div.sk-label.fitted:hover label.sk-toggleable__label.fitted {\n",
       "  color: var(--sklearn-color-text);\n",
       "  background-color: var(--sklearn-color-fitted-level-2);\n",
       "}\n",
       "\n",
       "/* Estimator label */\n",
       "\n",
       "#sk-container-id-1 div.sk-label label {\n",
       "  font-family: monospace;\n",
       "  font-weight: bold;\n",
       "  display: inline-block;\n",
       "  line-height: 1.2em;\n",
       "}\n",
       "\n",
       "#sk-container-id-1 div.sk-label-container {\n",
       "  text-align: center;\n",
       "}\n",
       "\n",
       "/* Estimator-specific */\n",
       "#sk-container-id-1 div.sk-estimator {\n",
       "  font-family: monospace;\n",
       "  border: 1px dotted var(--sklearn-color-border-box);\n",
       "  border-radius: 0.25em;\n",
       "  box-sizing: border-box;\n",
       "  margin-bottom: 0.5em;\n",
       "  /* unfitted */\n",
       "  background-color: var(--sklearn-color-unfitted-level-0);\n",
       "}\n",
       "\n",
       "#sk-container-id-1 div.sk-estimator.fitted {\n",
       "  /* fitted */\n",
       "  background-color: var(--sklearn-color-fitted-level-0);\n",
       "}\n",
       "\n",
       "/* on hover */\n",
       "#sk-container-id-1 div.sk-estimator:hover {\n",
       "  /* unfitted */\n",
       "  background-color: var(--sklearn-color-unfitted-level-2);\n",
       "}\n",
       "\n",
       "#sk-container-id-1 div.sk-estimator.fitted:hover {\n",
       "  /* fitted */\n",
       "  background-color: var(--sklearn-color-fitted-level-2);\n",
       "}\n",
       "\n",
       "/* Specification for estimator info (e.g. \"i\" and \"?\") */\n",
       "\n",
       "/* Common style for \"i\" and \"?\" */\n",
       "\n",
       ".sk-estimator-doc-link,\n",
       "a:link.sk-estimator-doc-link,\n",
       "a:visited.sk-estimator-doc-link {\n",
       "  float: right;\n",
       "  font-size: smaller;\n",
       "  line-height: 1em;\n",
       "  font-family: monospace;\n",
       "  background-color: var(--sklearn-color-background);\n",
       "  border-radius: 1em;\n",
       "  height: 1em;\n",
       "  width: 1em;\n",
       "  text-decoration: none !important;\n",
       "  margin-left: 0.5em;\n",
       "  text-align: center;\n",
       "  /* unfitted */\n",
       "  border: var(--sklearn-color-unfitted-level-1) 1pt solid;\n",
       "  color: var(--sklearn-color-unfitted-level-1);\n",
       "}\n",
       "\n",
       ".sk-estimator-doc-link.fitted,\n",
       "a:link.sk-estimator-doc-link.fitted,\n",
       "a:visited.sk-estimator-doc-link.fitted {\n",
       "  /* fitted */\n",
       "  border: var(--sklearn-color-fitted-level-1) 1pt solid;\n",
       "  color: var(--sklearn-color-fitted-level-1);\n",
       "}\n",
       "\n",
       "/* On hover */\n",
       "div.sk-estimator:hover .sk-estimator-doc-link:hover,\n",
       ".sk-estimator-doc-link:hover,\n",
       "div.sk-label-container:hover .sk-estimator-doc-link:hover,\n",
       ".sk-estimator-doc-link:hover {\n",
       "  /* unfitted */\n",
       "  background-color: var(--sklearn-color-unfitted-level-3);\n",
       "  color: var(--sklearn-color-background);\n",
       "  text-decoration: none;\n",
       "}\n",
       "\n",
       "div.sk-estimator.fitted:hover .sk-estimator-doc-link.fitted:hover,\n",
       ".sk-estimator-doc-link.fitted:hover,\n",
       "div.sk-label-container:hover .sk-estimator-doc-link.fitted:hover,\n",
       ".sk-estimator-doc-link.fitted:hover {\n",
       "  /* fitted */\n",
       "  background-color: var(--sklearn-color-fitted-level-3);\n",
       "  color: var(--sklearn-color-background);\n",
       "  text-decoration: none;\n",
       "}\n",
       "\n",
       "/* Span, style for the box shown on hovering the info icon */\n",
       ".sk-estimator-doc-link span {\n",
       "  display: none;\n",
       "  z-index: 9999;\n",
       "  position: relative;\n",
       "  font-weight: normal;\n",
       "  right: .2ex;\n",
       "  padding: .5ex;\n",
       "  margin: .5ex;\n",
       "  width: min-content;\n",
       "  min-width: 20ex;\n",
       "  max-width: 50ex;\n",
       "  color: var(--sklearn-color-text);\n",
       "  box-shadow: 2pt 2pt 4pt #999;\n",
       "  /* unfitted */\n",
       "  background: var(--sklearn-color-unfitted-level-0);\n",
       "  border: .5pt solid var(--sklearn-color-unfitted-level-3);\n",
       "}\n",
       "\n",
       ".sk-estimator-doc-link.fitted span {\n",
       "  /* fitted */\n",
       "  background: var(--sklearn-color-fitted-level-0);\n",
       "  border: var(--sklearn-color-fitted-level-3);\n",
       "}\n",
       "\n",
       ".sk-estimator-doc-link:hover span {\n",
       "  display: block;\n",
       "}\n",
       "\n",
       "/* \"?\"-specific style due to the `<a>` HTML tag */\n",
       "\n",
       "#sk-container-id-1 a.estimator_doc_link {\n",
       "  float: right;\n",
       "  font-size: 1rem;\n",
       "  line-height: 1em;\n",
       "  font-family: monospace;\n",
       "  background-color: var(--sklearn-color-background);\n",
       "  border-radius: 1rem;\n",
       "  height: 1rem;\n",
       "  width: 1rem;\n",
       "  text-decoration: none;\n",
       "  /* unfitted */\n",
       "  color: var(--sklearn-color-unfitted-level-1);\n",
       "  border: var(--sklearn-color-unfitted-level-1) 1pt solid;\n",
       "}\n",
       "\n",
       "#sk-container-id-1 a.estimator_doc_link.fitted {\n",
       "  /* fitted */\n",
       "  border: var(--sklearn-color-fitted-level-1) 1pt solid;\n",
       "  color: var(--sklearn-color-fitted-level-1);\n",
       "}\n",
       "\n",
       "/* On hover */\n",
       "#sk-container-id-1 a.estimator_doc_link:hover {\n",
       "  /* unfitted */\n",
       "  background-color: var(--sklearn-color-unfitted-level-3);\n",
       "  color: var(--sklearn-color-background);\n",
       "  text-decoration: none;\n",
       "}\n",
       "\n",
       "#sk-container-id-1 a.estimator_doc_link.fitted:hover {\n",
       "  /* fitted */\n",
       "  background-color: var(--sklearn-color-fitted-level-3);\n",
       "}\n",
       "\n",
       ".estimator-table summary {\n",
       "    padding: .5rem;\n",
       "    font-family: monospace;\n",
       "    cursor: pointer;\n",
       "}\n",
       "\n",
       ".estimator-table details[open] {\n",
       "    padding-left: 0.1rem;\n",
       "    padding-right: 0.1rem;\n",
       "    padding-bottom: 0.3rem;\n",
       "}\n",
       "\n",
       ".estimator-table .parameters-table {\n",
       "    margin-left: auto !important;\n",
       "    margin-right: auto !important;\n",
       "}\n",
       "\n",
       ".estimator-table .parameters-table tr:nth-child(odd) {\n",
       "    background-color: #fff;\n",
       "}\n",
       "\n",
       ".estimator-table .parameters-table tr:nth-child(even) {\n",
       "    background-color: #f6f6f6;\n",
       "}\n",
       "\n",
       ".estimator-table .parameters-table tr:hover {\n",
       "    background-color: #e0e0e0;\n",
       "}\n",
       "\n",
       ".estimator-table table td {\n",
       "    border: 1px solid rgba(106, 105, 104, 0.232);\n",
       "}\n",
       "\n",
       ".user-set td {\n",
       "    color:rgb(255, 94, 0);\n",
       "    text-align: left;\n",
       "}\n",
       "\n",
       ".user-set td.value pre {\n",
       "    color:rgb(255, 94, 0) !important;\n",
       "    background-color: transparent !important;\n",
       "}\n",
       "\n",
       ".default td {\n",
       "    color: black;\n",
       "    text-align: left;\n",
       "}\n",
       "\n",
       ".user-set td i,\n",
       ".default td i {\n",
       "    color: black;\n",
       "}\n",
       "\n",
       ".copy-paste-icon {\n",
       "    background-image: url(data:image/svg+xml;base64,PHN2ZyB4bWxucz0iaHR0cDovL3d3dy53My5vcmcvMjAwMC9zdmciIHZpZXdCb3g9IjAgMCA0NDggNTEyIj48IS0tIUZvbnQgQXdlc29tZSBGcmVlIDYuNy4yIGJ5IEBmb250YXdlc29tZSAtIGh0dHBzOi8vZm9udGF3ZXNvbWUuY29tIExpY2Vuc2UgLSBodHRwczovL2ZvbnRhd2Vzb21lLmNvbS9saWNlbnNlL2ZyZWUgQ29weXJpZ2h0IDIwMjUgRm9udGljb25zLCBJbmMuLS0+PHBhdGggZD0iTTIwOCAwTDMzMi4xIDBjMTIuNyAwIDI0LjkgNS4xIDMzLjkgMTQuMWw2Ny45IDY3LjljOSA5IDE0LjEgMjEuMiAxNC4xIDMzLjlMNDQ4IDMzNmMwIDI2LjUtMjEuNSA0OC00OCA0OGwtMTkyIDBjLTI2LjUgMC00OC0yMS41LTQ4LTQ4bDAtMjg4YzAtMjYuNSAyMS41LTQ4IDQ4LTQ4ek00OCAxMjhsODAgMCAwIDY0LTY0IDAgMCAyNTYgMTkyIDAgMC0zMiA2NCAwIDAgNDhjMCAyNi41LTIxLjUgNDgtNDggNDhMNDggNTEyYy0yNi41IDAtNDgtMjEuNS00OC00OEwwIDE3NmMwLTI2LjUgMjEuNS00OCA0OC00OHoiLz48L3N2Zz4=);\n",
       "    background-repeat: no-repeat;\n",
       "    background-size: 14px 14px;\n",
       "    background-position: 0;\n",
       "    display: inline-block;\n",
       "    width: 14px;\n",
       "    height: 14px;\n",
       "    cursor: pointer;\n",
       "}\n",
       "</style><body><div id=\"sk-container-id-1\" class=\"sk-top-container\"><div class=\"sk-text-repr-fallback\"><pre>LogisticRegression()</pre><b>In a Jupyter environment, please rerun this cell to show the HTML representation or trust the notebook. <br />On GitHub, the HTML representation is unable to render, please try loading this page with nbviewer.org.</b></div><div class=\"sk-container\" hidden><div class=\"sk-item\"><div class=\"sk-estimator fitted sk-toggleable\"><input class=\"sk-toggleable__control sk-hidden--visually\" id=\"sk-estimator-id-1\" type=\"checkbox\" checked><label for=\"sk-estimator-id-1\" class=\"sk-toggleable__label fitted sk-toggleable__label-arrow\"><div><div>LogisticRegression</div></div><div><a class=\"sk-estimator-doc-link fitted\" rel=\"noreferrer\" target=\"_blank\" href=\"https://scikit-learn.org/1.7/modules/generated/sklearn.linear_model.LogisticRegression.html\">?<span>Documentation for LogisticRegression</span></a><span class=\"sk-estimator-doc-link fitted\">i<span>Fitted</span></span></div></label><div class=\"sk-toggleable__content fitted\" data-param-prefix=\"\">\n",
       "        <div class=\"estimator-table\">\n",
       "            <details>\n",
       "                <summary>Parameters</summary>\n",
       "                <table class=\"parameters-table\">\n",
       "                  <tbody>\n",
       "                    \n",
       "        <tr class=\"default\">\n",
       "            <td><i class=\"copy-paste-icon\"\n",
       "                 onclick=\"copyToClipboard('penalty',\n",
       "                          this.parentElement.nextElementSibling)\"\n",
       "            ></i></td>\n",
       "            <td class=\"param\">penalty&nbsp;</td>\n",
       "            <td class=\"value\">&#x27;l2&#x27;</td>\n",
       "        </tr>\n",
       "    \n",
       "\n",
       "        <tr class=\"default\">\n",
       "            <td><i class=\"copy-paste-icon\"\n",
       "                 onclick=\"copyToClipboard('dual',\n",
       "                          this.parentElement.nextElementSibling)\"\n",
       "            ></i></td>\n",
       "            <td class=\"param\">dual&nbsp;</td>\n",
       "            <td class=\"value\">False</td>\n",
       "        </tr>\n",
       "    \n",
       "\n",
       "        <tr class=\"default\">\n",
       "            <td><i class=\"copy-paste-icon\"\n",
       "                 onclick=\"copyToClipboard('tol',\n",
       "                          this.parentElement.nextElementSibling)\"\n",
       "            ></i></td>\n",
       "            <td class=\"param\">tol&nbsp;</td>\n",
       "            <td class=\"value\">0.0001</td>\n",
       "        </tr>\n",
       "    \n",
       "\n",
       "        <tr class=\"default\">\n",
       "            <td><i class=\"copy-paste-icon\"\n",
       "                 onclick=\"copyToClipboard('C',\n",
       "                          this.parentElement.nextElementSibling)\"\n",
       "            ></i></td>\n",
       "            <td class=\"param\">C&nbsp;</td>\n",
       "            <td class=\"value\">1.0</td>\n",
       "        </tr>\n",
       "    \n",
       "\n",
       "        <tr class=\"default\">\n",
       "            <td><i class=\"copy-paste-icon\"\n",
       "                 onclick=\"copyToClipboard('fit_intercept',\n",
       "                          this.parentElement.nextElementSibling)\"\n",
       "            ></i></td>\n",
       "            <td class=\"param\">fit_intercept&nbsp;</td>\n",
       "            <td class=\"value\">True</td>\n",
       "        </tr>\n",
       "    \n",
       "\n",
       "        <tr class=\"default\">\n",
       "            <td><i class=\"copy-paste-icon\"\n",
       "                 onclick=\"copyToClipboard('intercept_scaling',\n",
       "                          this.parentElement.nextElementSibling)\"\n",
       "            ></i></td>\n",
       "            <td class=\"param\">intercept_scaling&nbsp;</td>\n",
       "            <td class=\"value\">1</td>\n",
       "        </tr>\n",
       "    \n",
       "\n",
       "        <tr class=\"default\">\n",
       "            <td><i class=\"copy-paste-icon\"\n",
       "                 onclick=\"copyToClipboard('class_weight',\n",
       "                          this.parentElement.nextElementSibling)\"\n",
       "            ></i></td>\n",
       "            <td class=\"param\">class_weight&nbsp;</td>\n",
       "            <td class=\"value\">None</td>\n",
       "        </tr>\n",
       "    \n",
       "\n",
       "        <tr class=\"default\">\n",
       "            <td><i class=\"copy-paste-icon\"\n",
       "                 onclick=\"copyToClipboard('random_state',\n",
       "                          this.parentElement.nextElementSibling)\"\n",
       "            ></i></td>\n",
       "            <td class=\"param\">random_state&nbsp;</td>\n",
       "            <td class=\"value\">None</td>\n",
       "        </tr>\n",
       "    \n",
       "\n",
       "        <tr class=\"default\">\n",
       "            <td><i class=\"copy-paste-icon\"\n",
       "                 onclick=\"copyToClipboard('solver',\n",
       "                          this.parentElement.nextElementSibling)\"\n",
       "            ></i></td>\n",
       "            <td class=\"param\">solver&nbsp;</td>\n",
       "            <td class=\"value\">&#x27;lbfgs&#x27;</td>\n",
       "        </tr>\n",
       "    \n",
       "\n",
       "        <tr class=\"default\">\n",
       "            <td><i class=\"copy-paste-icon\"\n",
       "                 onclick=\"copyToClipboard('max_iter',\n",
       "                          this.parentElement.nextElementSibling)\"\n",
       "            ></i></td>\n",
       "            <td class=\"param\">max_iter&nbsp;</td>\n",
       "            <td class=\"value\">100</td>\n",
       "        </tr>\n",
       "    \n",
       "\n",
       "        <tr class=\"default\">\n",
       "            <td><i class=\"copy-paste-icon\"\n",
       "                 onclick=\"copyToClipboard('multi_class',\n",
       "                          this.parentElement.nextElementSibling)\"\n",
       "            ></i></td>\n",
       "            <td class=\"param\">multi_class&nbsp;</td>\n",
       "            <td class=\"value\">&#x27;deprecated&#x27;</td>\n",
       "        </tr>\n",
       "    \n",
       "\n",
       "        <tr class=\"default\">\n",
       "            <td><i class=\"copy-paste-icon\"\n",
       "                 onclick=\"copyToClipboard('verbose',\n",
       "                          this.parentElement.nextElementSibling)\"\n",
       "            ></i></td>\n",
       "            <td class=\"param\">verbose&nbsp;</td>\n",
       "            <td class=\"value\">0</td>\n",
       "        </tr>\n",
       "    \n",
       "\n",
       "        <tr class=\"default\">\n",
       "            <td><i class=\"copy-paste-icon\"\n",
       "                 onclick=\"copyToClipboard('warm_start',\n",
       "                          this.parentElement.nextElementSibling)\"\n",
       "            ></i></td>\n",
       "            <td class=\"param\">warm_start&nbsp;</td>\n",
       "            <td class=\"value\">False</td>\n",
       "        </tr>\n",
       "    \n",
       "\n",
       "        <tr class=\"default\">\n",
       "            <td><i class=\"copy-paste-icon\"\n",
       "                 onclick=\"copyToClipboard('n_jobs',\n",
       "                          this.parentElement.nextElementSibling)\"\n",
       "            ></i></td>\n",
       "            <td class=\"param\">n_jobs&nbsp;</td>\n",
       "            <td class=\"value\">None</td>\n",
       "        </tr>\n",
       "    \n",
       "\n",
       "        <tr class=\"default\">\n",
       "            <td><i class=\"copy-paste-icon\"\n",
       "                 onclick=\"copyToClipboard('l1_ratio',\n",
       "                          this.parentElement.nextElementSibling)\"\n",
       "            ></i></td>\n",
       "            <td class=\"param\">l1_ratio&nbsp;</td>\n",
       "            <td class=\"value\">None</td>\n",
       "        </tr>\n",
       "    \n",
       "                  </tbody>\n",
       "                </table>\n",
       "            </details>\n",
       "        </div>\n",
       "    </div></div></div></div></div><script>function copyToClipboard(text, element) {\n",
       "    // Get the parameter prefix from the closest toggleable content\n",
       "    const toggleableContent = element.closest('.sk-toggleable__content');\n",
       "    const paramPrefix = toggleableContent ? toggleableContent.dataset.paramPrefix : '';\n",
       "    const fullParamName = paramPrefix ? `${paramPrefix}${text}` : text;\n",
       "\n",
       "    const originalStyle = element.style;\n",
       "    const computedStyle = window.getComputedStyle(element);\n",
       "    const originalWidth = computedStyle.width;\n",
       "    const originalHTML = element.innerHTML.replace('Copied!', '');\n",
       "\n",
       "    navigator.clipboard.writeText(fullParamName)\n",
       "        .then(() => {\n",
       "            element.style.width = originalWidth;\n",
       "            element.style.color = 'green';\n",
       "            element.innerHTML = \"Copied!\";\n",
       "\n",
       "            setTimeout(() => {\n",
       "                element.innerHTML = originalHTML;\n",
       "                element.style = originalStyle;\n",
       "            }, 2000);\n",
       "        })\n",
       "        .catch(err => {\n",
       "            console.error('Failed to copy:', err);\n",
       "            element.style.color = 'red';\n",
       "            element.innerHTML = \"Failed!\";\n",
       "            setTimeout(() => {\n",
       "                element.innerHTML = originalHTML;\n",
       "                element.style = originalStyle;\n",
       "            }, 2000);\n",
       "        });\n",
       "    return false;\n",
       "}\n",
       "\n",
       "document.querySelectorAll('.fa-regular.fa-copy').forEach(function(element) {\n",
       "    const toggleableContent = element.closest('.sk-toggleable__content');\n",
       "    const paramPrefix = toggleableContent ? toggleableContent.dataset.paramPrefix : '';\n",
       "    const paramName = element.parentElement.nextElementSibling.textContent.trim();\n",
       "    const fullParamName = paramPrefix ? `${paramPrefix}${paramName}` : paramName;\n",
       "\n",
       "    element.setAttribute('title', fullParamName);\n",
       "});\n",
       "</script></body>"
      ]
     },
     "execution_count": 10,
     "metadata": {},
     "output_type": "execute_result"
    }
   ],
   "execution_count": 10
  },
  {
   "metadata": {},
   "cell_type": "markdown",
   "source": [
    "# LogisticRegression is a classification model that works using probabilities.\n",
    "\n",
    "It estimates the probability that a sample belongs to class 1.\n",
    "\n",
    "Internally it uses the sigmoid function to map scores to values between 0 and 1."
   ],
   "id": "62da0e0d87b571ea"
  },
  {
   "metadata": {},
   "cell_type": "markdown",
   "source": "# Predict Class Probabilities",
   "id": "3cacb6bfb611cf63"
  },
  {
   "metadata": {
    "ExecuteTime": {
     "end_time": "2025-07-25T04:58:54.505866400Z",
     "start_time": "2025-07-24T19:40:51.219812Z"
    }
   },
   "cell_type": "code",
   "source": [
    "# Generate a dataset with 3 features and 2 informative ones\n",
    "X, y = make_classification(n_samples=500, n_features=3,\n",
    "                           n_informative=2, n_redundant=0,\n",
    "                           random_state=42)\n",
    "\n",
    "# Fit logistic regression model\n",
    "clf = LogisticRegression()\n",
    "clf.fit(X, y)\n",
    "\n",
    "# Predict class probabilities for the first 5 observations\n",
    "probs = clf.predict_proba(X[:5])\n",
    "print(probs)\n",
    "\n",
    "# This is how logistic regression expresses \"uncertainty\" — very useful in:\n",
    "#Fraud scoring\n",
    "#Credit risk modeling\n",
    "#Medical predictions"
   ],
   "id": "31fc74218b6d2a53",
   "outputs": [
    {
     "name": "stdout",
     "output_type": "stream",
     "text": [
      "[[0.03545997 0.96454003]\n",
      " [0.02624189 0.97375811]\n",
      " [0.06365104 0.93634896]\n",
      " [0.98285495 0.01714505]\n",
      " [0.9323747  0.0676253 ]]\n"
     ]
    }
   ],
   "execution_count": 11
  },
  {
   "metadata": {
    "ExecuteTime": {
     "end_time": "2025-07-25T04:58:54.506867300Z",
     "start_time": "2025-07-24T19:40:51.297341Z"
    }
   },
   "cell_type": "code",
   "source": [
    "# Test independence onn data\n",
    "\n",
    "# Simulate customer behavior data\n",
    "np.random.seed(42)\n",
    "df=pd.DataFrame({\n",
    "    \"purchased\": np.random.choice([1,0],size=1000,p=[0.3,0.7]),\n",
    "    \"clicked_ad\": np.random.choice([1,0],size=1000,p=[0.4,0.6])\n",
    "})\n",
    "\n",
    "# Calculate individual probabilites\n",
    "p_purchased=df[\"purchased\"].mean()\n",
    "p_clicked=df[\"clicked_ad\"].mean()\n",
    "\n",
    "# joint probability both purchased and clicked ad\n",
    "p_both=((df[\"purchased\"]==1) & (df[\"clicked_ad\"]==1)).mean()\n",
    "\n",
    "# Independence check\n",
    "expected_joint=p_purchased * p_clicked\n",
    "print(\"P(purchased) : \",p_purchased)\n",
    "print(\"p(clicked ad) : \",p_clicked)\n",
    "print(\"P(Both): \",p_both)\n",
    "print(\"Expected if independent :\", expected_joint)\n",
    "\n",
    "# Verdict\n",
    "if np.isclose(p_both,expected_joint,atol=0.02):\n",
    "    print(\"Events are approximately independent \")\n",
    "else:\n",
    "    print(\"Events are likely dependent\")\n"
   ],
   "id": "235f811c3fdf3a42",
   "outputs": [
    {
     "name": "stdout",
     "output_type": "stream",
     "text": [
      "P(purchased) :  0.319\n",
      "p(clicked ad) :  0.385\n",
      "P(Both):  0.123\n",
      "Expected if independent : 0.12281500000000001\n",
      "Events are approximately independent \n"
     ]
    }
   ],
   "execution_count": 12
  },
  {
   "metadata": {
    "ExecuteTime": {
     "end_time": "2025-07-25T04:58:54.507866200Z",
     "start_time": "2025-07-24T19:40:51.358495Z"
    }
   },
   "cell_type": "code",
   "source": [
    "# Bayes theorem\n",
    "#given\n",
    "p_churn=0.05\n",
    "p_no_churn=0.95\n",
    "\n",
    "p_complain_given_churn=0.4\n",
    "p_complain_given_no_churn=0.1\n",
    "\n",
    "# total probability of complaint (denominator)\n",
    "p_complain=(p_churn*p_complain_given_churn)+(p_complain_given_no_churn * p_no_churn)\n",
    "\n",
    "# applying bayes theorem\n",
    "p_churn_given_complaint= (p_churn * p_complain_given_churn) / p_complain\n",
    "print(\"P(Churn | Complaint) = {:.2f}%\".format(p_churn_given_complaint * 100))\n"
   ],
   "id": "d1a386cbc4e68321",
   "outputs": [
    {
     "name": "stdout",
     "output_type": "stream",
     "text": [
      "P(Churn | Complaint) = 17.39%\n"
     ]
    }
   ],
   "execution_count": 13
  },
  {
   "metadata": {},
   "cell_type": "markdown",
   "source": "## Simulating a Discrete Random Variable (e.g., number of complaints per user)",
   "id": "12d999469a3c8799"
  },
  {
   "metadata": {
    "ExecuteTime": {
     "end_time": "2025-07-25T04:58:54.507866200Z",
     "start_time": "2025-07-24T19:40:51.391036Z"
    }
   },
   "cell_type": "code",
   "source": [
    "# simulate 1000 users , each can raise 0-3 complaints '\n",
    "import matplotlib.pyplot as plt\n",
    "np.random.seed(42)\n",
    "complaints=np.random.choice([0,1,2,3],size=1000,p=[0.4,0.3,0.2,0.1])\n",
    "# np.random.choice() : randomly picks values from a list based on defined probabilities.\n",
    "\n",
    "#p=[0.4, 0.3, 0.2, 0.1] → defines how likely each value is to occur.\n",
    "# Count frequency of each complaint count\n",
    "unique,counts=np.unique(complaints,return_counts=True)\n",
    "\n",
    " #plot\n",
    "plt.bar(unique,counts)\n",
    "plt.title(\"Discrete Random Variable - Complaints per User\")\n",
    "plt.xlabel(\"Number of Complaints\")\n",
    "plt.ylabel(\"Frequency\")\n",
    "plt.show()"
   ],
   "id": "211f1f7feb030b0",
   "outputs": [
    {
     "data": {
      "text/plain": [
       "<Figure size 640x480 with 1 Axes>"
      ],
      "image/png": "[encoded data removed]"
     },
     "metadata": {},
     "output_type": "display_data"
    }
   ],
   "execution_count": 14
  },
  {
   "metadata": {},
   "cell_type": "markdown",
   "source": [
    "Simulating a Continuous Random Variable (e.g., session time in minutes)\n",
    "\n",
    "np.random.normal(loc=20, scale=5) generates data around a normal distribution.\n",
    "\n",
    "loc = mean, scale = std deviation.\n",
    "\n",
    "plt.hist() → histogram = best for continuous data.\n",
    "\n"
   ],
   "id": "cefba10e5f2420c2"
  },
  {
   "metadata": {
    "ExecuteTime": {
     "end_time": "2025-07-25T04:58:54.509373400Z",
     "start_time": "2025-07-24T19:40:51.612299Z"
    }
   },
   "cell_type": "code",
   "source": [
    "#Simulate 1000 session times using a normal distribution\n",
    "session_time=np.random.normal(loc=20,scale=5,size=1000) # loc = mean and scale = std deviation\n",
    "\n",
    "# plotting hsitogram as histogra is best for continous data\n",
    "plt.hist(session_time,bins=30,edgecolor=\"black\")\n",
    "plt.title(\"Continous Random Variable- Session Time(minutes)\")\n",
    "plt.xlabel(\"Time (min)\")\n",
    "plt.ylabel(\"Frequency\")\n",
    "plt.show()"
   ],
   "id": "b3efd94399fe545e",
   "outputs": [
    {
     "data": {
      "text/plain": [
       "<Figure size 640x480 with 1 Axes>"
      ],
      "image/png": "[encoded data removed]"
     },
     "metadata": {},
     "output_type": "display_data"
    }
   ],
   "execution_count": 15
  },
  {
   "metadata": {},
   "cell_type": "markdown",
   "source": [
    "# Binomial Distribution\n",
    "## Simulate Using NumPy"
   ],
   "id": "7ec58c5f2fb8c7de"
  },
  {
   "metadata": {
    "ExecuteTime": {
     "end_time": "2025-07-25T04:58:54.510383100Z",
     "start_time": "2025-07-24T19:40:51.748832Z"
    }
   },
   "cell_type": "code",
   "source": [
    "# Simulate 10,000 exp: 10 trials each,with 0.3 probability of success\n",
    "simulated_data=np.random.binomial(n=10,p=0.3, size= 10000)\n",
    "\n",
    "# check average result\n",
    "print(\"mean of simulated results:\",simulated_data.mean())\n"
   ],
   "id": "2f78a0a2113d3b66",
   "outputs": [
    {
     "name": "stdout",
     "output_type": "stream",
     "text": [
      "mean of simulated results: 2.9775\n"
     ]
    }
   ],
   "execution_count": 16
  },
  {
   "metadata": {},
   "cell_type": "markdown",
   "source": "This is great for modeling user behavior or A/B testing in engineering",
   "id": "68e3dab958299168"
  },
  {
   "metadata": {},
   "cell_type": "markdown",
   "source": "## Calculate Exact Probabilities using scipy.stats",
   "id": "68140e4a85e310d8"
  },
  {
   "metadata": {
    "ExecuteTime": {
     "end_time": "2025-07-25T04:58:54.510383100Z",
     "start_time": "2025-07-24T19:40:51.807450Z"
    }
   },
   "cell_type": "code",
   "source": "from scipy.stats import binom",
   "id": "ed118c9873944310",
   "outputs": [],
   "execution_count": 17
  },
  {
   "metadata": {
    "ExecuteTime": {
     "end_time": "2025-07-25T04:58:54.514381200Z",
     "start_time": "2025-07-24T19:40:51.839965Z"
    }
   },
   "cell_type": "code",
   "source": [
    "n = 10       # number of trials\n",
    "p = 0.3      # probability of success\n",
    "\n",
    "# PMF : Probability of getting exactly 3 success\n",
    "print(\"P(X=3):\", binom.pmf(k=3,n=n,p=p))\n",
    "\n",
    "# CDF: Probability of getting at most 3 successes\n",
    "print(\"P(X<=3):\",binom.cdf(k=3,n=n,p=p))\n",
    "\n",
    "# Mean and variance\n",
    "print(\"Mean :\", binom.mean(n=n,p=p))\n",
    "print(\"Variance:\",binom.var(n=n,p=p))"
   ],
   "id": "b0e70e850f09c84d",
   "outputs": [
    {
     "name": "stdout",
     "output_type": "stream",
     "text": [
      "P(X=3): 0.2668279319999998\n",
      "P(X<=3): 0.6496107184000001\n",
      "Mean : 3.0\n",
      "Variance: 2.1\n"
     ]
    }
   ],
   "execution_count": 18
  },
  {
   "metadata": {
    "ExecuteTime": {
     "end_time": "2025-07-25T04:58:54.515381500Z",
     "start_time": "2025-07-24T19:40:51.899860Z"
    }
   },
   "cell_type": "code",
   "source": [
    "x = np.arange(0, n + 1)\n",
    "pmf_values = binom.pmf(x, n, p)\n",
    "\n",
    "plt.bar(x, pmf_values, color='skyblue')\n",
    "plt.xlabel(\"Number of Successes\")\n",
    "plt.ylabel(\"Probability\")\n",
    "plt.title(\"Binomial PMF\")\n",
    "plt.grid()\n",
    "plt.show()"
   ],
   "id": "46e84391c9b7065",
   "outputs": [
    {
     "data": {
      "text/plain": [
       "<Figure size 640x480 with 1 Axes>"
      ],
      "image/png": "[encoded data removed]"
     },
     "metadata": {},
     "output_type": "display_data"
    }
   ],
   "execution_count": 19
  },
  {
   "metadata": {},
   "cell_type": "markdown",
   "source": [
    "## Poisson Distribution\n",
    "To model : no of times an event happened in fixed interval (time,distance,area) and events occured independtly"
   ],
   "id": "a4f1a933fdd25dd2"
  },
  {
   "metadata": {
    "ExecuteTime": {
     "end_time": "2025-07-25T04:58:54.516382800Z",
     "start_time": "2025-07-24T19:40:52.020428Z"
    }
   },
   "cell_type": "code",
   "source": [
    "# Simulate: 10 values from a Poisson distribution with lambda = 3\n",
    "np.random.poisson(lam=3, size=10)\n",
    "#lam: lambda = 3\n",
    "#Use this for simulations, bootstrapping, or fake data generation.\n",
    "from scipy.stats import poisson\n",
    "#Calculate PMF (probability of exact count)\n",
    "poisson.pmf(k=4,mu=3) # prob of exactly 4 events when labmda = 3\n",
    "\n",
    "#Cumulative Probability (≤ k events)\n",
    "#probability of 4 or fewer events\n",
    "poisson.cdf(k=4,mu=3)\n",
    "\n",
    "#Visualize Poisson Distribution\n",
    "import seaborn as sns\n",
    "x=np.arange(0,10)\n",
    "pmf_vals=poisson.pmf(x,mu=3)\n",
    "\n",
    "sns.barplot(x=x,y=pmf_vals,color=\"Skyblue\")\n",
    "plt.title(\"poission pmf (λ = 3)\")\n",
    "plt.xlabel(\"Number of Events\")\n",
    "plt.ylabel(\"Probability\")\n",
    "plt.show()"
   ],
   "id": "675334114b5ca37b",
   "outputs": [
    {
     "data": {
      "text/plain": [
       "<Figure size 640x480 with 1 Axes>"
      ],
      "image/png": "[encoded data removed]"
     },
     "metadata": {},
     "output_type": "display_data"
    }
   ],
   "execution_count": 20
  },
  {
   "metadata": {},
   "cell_type": "markdown",
   "source": "## Fraud Detection Trigger Simulation",
   "id": "b3217c62af12ebdc"
  },
  {
   "metadata": {
    "ExecuteTime": {
     "end_time": "2025-07-25T04:58:54.516382800Z",
     "start_time": "2025-07-24T19:40:52.255120Z"
    }
   },
   "cell_type": "code",
   "source": [
    "# 1. Simulate 10,000 random login times (in hours)\n",
    "np.random.seed(42)\n",
    "login_time=np.random.uniform(size=10000,low=8,high=20)\n",
    "\n",
    "#plot the distribution\n",
    "plt.hist(login_time,bins=24,edgecolor=\"black\",color=\"blue\")\n",
    "plt.xlabel(\"Hour of the day\")\n",
    "plt.ylabel(\"Number og logins\")\n",
    "plt.title(\"Simulated User login times(8 am - 8 pm\")\n",
    "plt.axvline(x=12,color=\"red\",linestyle=\"--\",label=\"12 PM\")\n",
    "plt.legend()\n",
    "plt.show()"
   ],
   "id": "ad09fa815cf01fbd",
   "outputs": [
    {
     "data": {
      "text/plain": [
       "<Figure size 640x480 with 1 Axes>"
      ],
      "image/png": "[encoded data removed]"
     },
     "metadata": {},
     "output_type": "display_data"
    }
   ],
   "execution_count": 21
  },
  {
   "metadata": {
    "ExecuteTime": {
     "end_time": "2025-07-25T04:58:54.517381300Z",
     "start_time": "2025-07-24T19:40:52.592407Z"
    }
   },
   "cell_type": "code",
   "source": [
    "# percentage of logins before 12\n",
    "logins_before_12=np.sum(login_time<12)\n",
    "percentage=logins_before_12/len(login_time) * 100\n",
    "print(f\" % of logins before 12 pm is {percentage:.2f}%\")"
   ],
   "id": "eee297d7818d2c8d",
   "outputs": [
    {
     "name": "stdout",
     "output_type": "stream",
     "text": [
      " % of logins before 12 pm is 33.75%\n"
     ]
    }
   ],
   "execution_count": 22
  },
  {
   "metadata": {},
   "cell_type": "markdown",
   "source": [
    "Threshold checks              Like % before 12 PM can define \"rush hours\"\n",
    "\n",
    "Random time-based simulation  Load testing, fraud detection triggers, system spikes"
   ],
   "id": "280aff7f08683a7b"
  },
  {
   "metadata": {
    "ExecuteTime": {
     "end_time": "2025-07-25T04:58:54.517381300Z",
     "start_time": "2025-07-24T19:40:52.652272Z"
    }
   },
   "cell_type": "code",
   "source": [
    "# Generate 1000 samples with mean=50 and std=10\n",
    "data = np.random.normal(loc=50, scale=10, size=1000)\n",
    "\n",
    "# Plot histogram\n",
    "plt.hist(data, bins=\"auto\", color='skyblue', edgecolor='black', density=True)\n",
    "plt.title(\"Normal Distribution Histogram\")\n",
    "plt.xlabel(\"Value\")\n",
    "plt.ylabel(\"Density\")\n",
    "plt.show()"
   ],
   "id": "95e92648536ad98b",
   "outputs": [
    {
     "data": {
      "text/plain": [
       "<Figure size 640x480 with 1 Axes>"
      ],
      "image/png": "[encoded data removed]"
     },
     "metadata": {},
     "output_type": "display_data"
    }
   ],
   "execution_count": 23
  },
  {
   "metadata": {
    "ExecuteTime": {
     "end_time": "2025-07-25T04:58:54.518382500Z",
     "start_time": "2025-07-24T19:40:52.848212Z"
    }
   },
   "cell_type": "code",
   "source": [
    "# Mean and std dev\n",
    "from scipy.stats import norm\n",
    "mu = 50\n",
    "sigma = 10\n",
    "\n",
    "# PDF at a point (e.g., x = 55)\n",
    "pdf_val = norm.pdf(55, loc=mu, scale=sigma)\n",
    "print(\"PDF at x=55:\", pdf_val)\n",
    "\n",
    "# CDF at a point (e.g., x = 55)\n",
    "cdf_val = norm.cdf(55, loc=mu, scale=sigma)\n",
    "print(\"CDF at x=55:\", cdf_val)\n",
    "x = np.linspace(10, 90, 500)\n",
    "pdf = norm.pdf(x, loc=mu, scale=sigma)\n",
    "cdf = norm.cdf(x, loc=mu, scale=sigma)\n",
    "\n",
    "#Plottinig the cdf and pdf in normal distribution\n",
    "\n",
    "plt.plot(x, pdf, label='PDF', color='blue')\n",
    "plt.plot(x, cdf, label='CDF', color='green')\n",
    "plt.legend()\n",
    "plt.title(\"PDF vs CDF of Normal Distribution\")\n",
    "plt.xlabel(\"Value\")\n",
    "plt.ylabel(\"Probability\")\n",
    "plt.grid(True)\n",
    "plt.show()"
   ],
   "id": "36fa8fef19e4ff2a",
   "outputs": [
    {
     "name": "stdout",
     "output_type": "stream",
     "text": [
      "PDF at x=55: 0.03520653267642995\n",
      "CDF at x=55: 0.6914624612740131\n"
     ]
    },
    {
     "data": {
      "text/plain": [
       "<Figure size 640x480 with 1 Axes>"
      ],
      "image/png": "[encoded data removed]"
     },
     "metadata": {},
     "output_type": "display_data"
    }
   ],
   "execution_count": 24
  },
  {
   "metadata": {
    "ExecuteTime": {
     "end_time": "2025-07-25T04:58:54.518382500Z",
     "start_time": "2025-07-24T19:40:52.966794Z"
    }
   },
   "cell_type": "code",
   "source": [
    "# Use Case — Z-score and Probability\n",
    "#hat’s the probability that a value is greater than 70?\n",
    "\n",
    "# P(X > 70) = 1 - CDF(70)\n",
    "prob = 1 - norm.cdf(70, loc=mu, scale=sigma)\n",
    "print(\"P(X > 70):\", prob)"
   ],
   "id": "aeacc76a3d92c77a",
   "outputs": [
    {
     "name": "stdout",
     "output_type": "stream",
     "text": [
      "P(X > 70): 0.02275013194817921\n"
     ]
    }
   ],
   "execution_count": 25
  },
  {
   "metadata": {
    "ExecuteTime": {
     "end_time": "2025-07-25T04:58:54.518382500Z",
     "start_time": "2025-07-24T19:40:53.022855Z"
    }
   },
   "cell_type": "code",
   "source": "#Exponential Distribution",
   "id": "69f37fe044079a8d",
   "outputs": [],
   "execution_count": 26
  },
  {
   "metadata": {
    "ExecuteTime": {
     "end_time": "2025-07-25T04:58:54.520385200Z",
     "start_time": "2025-07-24T19:43:17.135217Z"
    }
   },
   "cell_type": "code",
   "source": [
    "import numpy as np\n",
    "np.random.seed(42)\n",
    "times=np.random.exponential( scale=10,size=1000)\n",
    "\n",
    "#plotting the histogram\n",
    "plt.hist(times,bins=30,alpha=0.7,density=True)\n",
    "plt.title(\"Exponential Distribution\")\n",
    "plt.xlabel(\"Time between calls\")\n",
    "plt.ylabel(\"Density\")\n",
    "plt.grid(True)\n",
    "plt.show()\n",
    "#scale=10 means on average, events happen every 10 minutes.\n",
    "#The histogram is right-skewed — most events occur soon, few take long.\n",
    "\n"
   ],
   "id": "9491387454c6e3c7",
   "outputs": [
    {
     "data": {
      "text/plain": [
       "<Figure size 640x480 with 1 Axes>"
      ],
      "image/png": "[encoded data removed]"
     },
     "metadata": {},
     "output_type": "display_data"
    }
   ],
   "execution_count": 31
  },
  {
   "metadata": {
    "ExecuteTime": {
     "end_time": "2025-07-25T04:58:54.521395400Z",
     "start_time": "2025-07-24T19:49:14.067492Z"
    }
   },
   "cell_type": "code",
   "source": [
    "#code using scipy.stats.expon\n",
    "from scipy.stats import expon\n",
    "\n",
    "#Create exponential distribution with mean = 10\n",
    "rv=expon(scale=10)\n",
    "\n",
    "#PDF (Probability Distribution Function)\n",
    "x=np.linspace(0,60,200)\n",
    "pdf=rv.pdf(x)\n",
    "\n",
    "plt.plot(x,pdf,color=\"darkorange\",label=\"PDF (scipy)\")\n",
    "plt.title(\"Exponential PDF using SCipy\")\n",
    "plt.xlabel(\"Time\")\n",
    "plt.ylabel(\"Probability Density\")\n",
    "plt.grid(True)\n",
    "plt.legend()\n",
    "plt.show()"
   ],
   "id": "b90a18e78cc226cc",
   "outputs": [
    {
     "data": {
      "text/plain": [
       "<Figure size 640x480 with 1 Axes>"
      ],
      "image/png": "[encoded data removed]"
     },
     "metadata": {},
     "output_type": "display_data"
    }
   ],
   "execution_count": 34
  },
  {
   "metadata": {
    "ExecuteTime": {
     "end_time": "2025-07-25T04:58:54.521792800Z",
     "start_time": "2025-07-24T20:15:21.531317Z"
    }
   },
   "cell_type": "code",
   "source": [
    "#bonus CDF \"chances next call happens within X mins\"\n",
    "print(\"P(calls comes within 5 mins)\",rv.cdf(5).round(2)) #p(x<=5)\n",
    "print(\"P(calls comes after 15 mins)\",rv.sf(15).round(2)) #survival function"
   ],
   "id": "46b7f938395e3e2f",
   "outputs": [
    {
     "name": "stdout",
     "output_type": "stream",
     "text": [
      "P(calls comes within 5 mins) 0.39\n",
      "P(calls comes after 15 mins) 0.22\n"
     ]
    }
   ],
   "execution_count": 42
  },
  {
   "metadata": {
    "ExecuteTime": {
     "end_time": "2025-07-25T04:58:54.521792800Z",
     "start_time": "2025-07-24T20:18:17.921497Z"
    }
   },
   "cell_type": "code",
   "source": [
    "#The Toolkit of Probability Distributions\n",
    "# PMF — discrete\n",
    "# Tossing 3 coins and chance of 2 heads\n",
    "print(\"P(X=2 heads in 3 tosses):\", binom.pmf(2, n=3, p=0.5).round(2))\n",
    "# PDF — continuous\n",
    "# probability of I will be exact 6ft\n",
    "print(\"PDF at x=70 (height):\", norm.pdf(70, loc=65, scale=3).round(2))\n",
    "# CDF\n",
    "# less than 6 feet\n",
    "print(\"P(X <= 70):\", norm.cdf(70, loc=65, scale=3).round(2))\n",
    "# SF\n",
    "#greater than 6 feet\n",
    "print(\"P(X > 70):\", norm.sf(70, loc=65, scale=3).round(2))\n",
    "# PPF\n",
    "print(\"Height at 95th percentile:\", norm.ppf(0.95, loc=65, scale=3).round(2))"
   ],
   "id": "ea4f3513a4a4c56",
   "outputs": [
    {
     "name": "stdout",
     "output_type": "stream",
     "text": [
      "P(X=2 heads in 3 tosses): 0.38\n",
      "PDF at x=70 (height): 0.03\n",
      "P(X <= 70): 0.95\n",
      "P(X > 70): 0.05\n",
      "Height at 95th percentile: 69.93\n"
     ]
    }
   ],
   "execution_count": 49
  },
  {
   "metadata": {},
   "cell_type": "markdown",
   "source": "## Descriptive Stats",
   "id": "f8ed8b34b8ba9a7a"
  },
  {
   "metadata": {
    "ExecuteTime": {
     "end_time": "2025-07-25T04:58:54.522874900Z",
     "start_time": "2025-07-24T20:37:36.399003Z"
    }
   },
   "cell_type": "code",
   "source": [
    "# Mean (Arithmetic Average)\n",
    "\n",
    "# using numpy\n",
    "data=np.array([10,20,30,40,50,10000])\n",
    "mean=np.mean(data).round(2)\n",
    "print(\"Mean:\",mean)\n",
    "\n",
    "# Pandas\n",
    "import pandas as pd\n",
    "df=pd.DataFrame({\"revenue\" : [10,20,30,1000]})\n",
    "print(\"Mean Revenue :\",df[\"revenue\"].mean())\n",
    "\n",
    "from scipy import stats\n",
    "print(\"mean (using scipy):\",stats.tmean(data).round(2))"
   ],
   "id": "c4613f26b6097e30",
   "outputs": [
    {
     "name": "stdout",
     "output_type": "stream",
     "text": [
      "Mean: 1691.67\n",
      "Mean Revenue : 265.0\n",
      "mean (using scipy): 1691.67\n"
     ]
    }
   ],
   "execution_count": 55
  },
  {
   "metadata": {
    "ExecuteTime": {
     "end_time": "2025-07-25T04:58:54.522874900Z",
     "start_time": "2025-07-24T21:20:44.899592Z"
    }
   },
   "cell_type": "code",
   "source": [
    " # Median\n",
    "data = np.array([10, 20, 30, 1000])\n",
    "median = np.median(data)\n",
    "print(\"Median:\", median)\n",
    "\n",
    "df = pd.DataFrame({'salaries': [10, 20, 30, 1000]})\n",
    "print(\"Median Salary:\", df['salaries'].median())"
   ],
   "id": "96112d073bdaf225",
   "outputs": [
    {
     "name": "stdout",
     "output_type": "stream",
     "text": [
      "Median: 25.0\n",
      "Median Salary: 25.0\n"
     ]
    }
   ],
   "execution_count": 58
  },
  {
   "metadata": {
    "ExecuteTime": {
     "end_time": "2025-07-25T04:58:54.523875900Z",
     "start_time": "2025-07-24T21:33:42.808796Z"
    }
   },
   "cell_type": "code",
   "source": [
    "# mode\n",
    "#  NumPy (returns smallest mode if multiple)\n",
    "data=np.array([1,2,3,4,5,6,7,8,4,2,3,5,4,4,6,7,5,2,3,4,4,6,])\n",
    "mode=stats.mode(data,keepdims=False)\n",
    "print(\"Mode:\",mode.mode,\"Count:\",mode.count)\n",
    "\n",
    "# for categorical values we use mode in pandas which return series\n",
    "df = pd.DataFrame({'cuisine': ['Indian', 'Chinese', 'Indian', 'Mexican', 'Indian']})\n",
    "print(\"Mode Cuisine:\", df['cuisine'].mode()[0])"
   ],
   "id": "a05e0cfbcb536bd8",
   "outputs": [
    {
     "name": "stdout",
     "output_type": "stream",
     "text": [
      "Mode: 4 Count: 6\n",
      "Mode Cuisine: Indian\n"
     ]
    }
   ],
   "execution_count": 64
  },
  {
   "metadata": {
    "ExecuteTime": {
     "end_time": "2025-07-25T04:58:54.523875900Z",
     "start_time": "2025-07-24T22:11:31.863958Z"
    }
   },
   "cell_type": "code",
   "source": [
    "# variance\n",
    "data=[5,10,15,20,25,45]\n",
    "\n",
    "#sample variance\n",
    "sample_var=np.var(data,ddof=1)\n",
    "print(\"sample_var\",sample_var)\n",
    "\n",
    "#population variance\n",
    "pop_var=np.var(data)\n",
    "print(\"pop_var\",pop_var)"
   ],
   "id": "930130c583215abc",
   "outputs": [
    {
     "name": "stdout",
     "output_type": "stream",
     "text": [
      "sample_var 200.0\n",
      "pop_var 166.66666666666666\n"
     ]
    }
   ],
   "execution_count": 66
  },
  {
   "metadata": {
    "ExecuteTime": {
     "end_time": "2025-07-25T04:58:54.523875900Z",
     "start_time": "2025-07-24T22:14:11.319154Z"
    }
   },
   "cell_type": "code",
   "source": [
    "#using pandas\n",
    "df=pd.DataFrame({\"value\": data})\n",
    "sample_var_pd=df[\"value\"].var() #pandas already use ddof=1 (sample variance)\n",
    "print(\"sample variance using pandas\",sample_var_pd)\n"
   ],
   "id": "6fcf43ca6e92759",
   "outputs": [
    {
     "name": "stdout",
     "output_type": "stream",
     "text": [
      "sample variance using pandas 200.0\n"
     ]
    }
   ],
   "execution_count": 67
  },
  {
   "metadata": {
    "ExecuteTime": {
     "end_time": "2025-07-25T04:58:54.524877600Z",
     "start_time": "2025-07-24T22:23:48.149010Z"
    }
   },
   "cell_type": "code",
   "source": [
    "# stats model (statistics reports)\n",
    "import statsmodels.api as sm\n",
    "\n",
    "#convert list to series first\n",
    "data_series=pd.Series(data)\n",
    "\n",
    "# Describe using statsmodel and using DescrStatsW() function\n",
    "desc=sm.stats.DescrStatsW(data_series)\n",
    "print(desc)\n",
    "# sample variance\n",
    "sample_var_sm=desc.var\n",
    "print(\"sample variance (StatsModel):\",sample_var_sm)"
   ],
   "id": "238af1e2835bfc82",
   "outputs": [
    {
     "name": "stdout",
     "output_type": "stream",
     "text": [
      "<statsmodels.stats.weightstats.DescrStatsW object at 0x000002AED4B80260>\n",
      "sample variance (StatsModel): 166.66666666666666\n"
     ]
    }
   ],
   "execution_count": 71
  },
  {
   "metadata": {
    "ExecuteTime": {
     "end_time": "2025-07-25T04:58:54.524877600Z",
     "start_time": "2025-07-24T23:13:25.523857Z"
    }
   },
   "cell_type": "code",
   "source": [
    "# Standard deviation\n",
    "#Code Implementation (NumPy + Scipy + Statsmodels)\n",
    "\n",
    "data = [10, 12, 23, 23, 16, 23, 21, 16]\n",
    "std_dev=np.std(data) #population std (ddof=0)\n",
    "sample_std_dev=np.std(data,ddof=1)\n",
    "print(\"Standard deviation (population):\", std_dev)\n",
    "print(\"Standard deviation(sample):\",sample_std_dev)\n",
    "#ddof=1 means you are using n-1, which is standard for sample standard deviatio"
   ],
   "id": "2cdf063c8d09c94a",
   "outputs": [
    {
     "name": "stdout",
     "output_type": "stream",
     "text": [
      "Standard deviation (population): 4.898979485566356\n",
      "Standard deviation(sample): 5.237229365663817\n"
     ]
    }
   ],
   "execution_count": 73
  },
  {
   "metadata": {
    "ExecuteTime": {
     "end_time": "2025-07-25T04:58:54.525875500Z",
     "start_time": "2025-07-24T23:17:35.276777Z"
    }
   },
   "cell_type": "code",
   "source": [
    "#With statsmodel\n",
    "import statsmodels.api as sm\n",
    "data_series=pd.Series(data)\n",
    "\n",
    "desc=sm.stats.DescrStatsW(data_series) #DescrStatsW gives weighted statistics, but works fine without weights.\n",
    "print(\"standard deviation of data is :\",desc.std.round(2))"
   ],
   "id": "c27eda1682b2028d",
   "outputs": [
    {
     "name": "stdout",
     "output_type": "stream",
     "text": [
      "standard deviation of data is : 4.9\n"
     ]
    }
   ],
   "execution_count": 79
  },
  {
   "metadata": {},
   "cell_type": "markdown",
   "source": [
    "## skewness\n",
    "scipy (prefered for skewness)"
   ],
   "id": "4a85c3c301f1bdde"
  },
  {
   "metadata": {
    "ExecuteTime": {
     "end_time": "2025-07-25T04:58:54.526876600Z",
     "start_time": "2025-07-24T23:46:05.741044Z"
    }
   },
   "cell_type": "code",
   "source": [
    "import scipy.stats\n",
    "data=[10, 12, 23, 23, 16, 23, 21, 16]\n",
    "print(\"Skewness:\" ,scipy.stats.skew(data))"
   ],
   "id": "483b9ddaa880a855",
   "outputs": [
    {
     "name": "stdout",
     "output_type": "stream",
     "text": [
      "Skewness: -0.363596133694378\n"
     ]
    }
   ],
   "execution_count": 87
  },
  {
   "metadata": {},
   "cell_type": "markdown",
   "source": "data is -ve means left skewed (mean<median)",
   "id": "e4853e73ec6bd1f1"
  },
  {
   "metadata": {
    "ExecuteTime": {
     "end_time": "2025-07-25T04:58:54.526876600Z",
     "start_time": "2025-07-25T00:13:50.483091Z"
    }
   },
   "cell_type": "code",
   "source": "# kurtosis",
   "id": "b55b7ad03d8ed05e",
   "outputs": [],
   "execution_count": 90
  },
  {
   "metadata": {
    "ExecuteTime": {
     "end_time": "2025-07-25T04:59:48.696151Z",
     "start_time": "2025-07-25T04:59:48.401969Z"
    }
   },
   "cell_type": "code",
   "source": [
    "from scipy.stats import kurtosis\n",
    "import seaborn as sns\n",
    "import numpy as np\n",
    "import matplotlib.pyplot as plt\n",
    "import pandas as pd\n",
    "\n",
    "np.random.seed(0)\n",
    "data = pd.DataFrame({\n",
    "    'normal_dist': np.random.normal(loc=0, scale=1, size=1000),\n",
    "    'heavy_tailed': np.random.laplace(loc=0, scale=1, size=1000)\n",
    "})\n",
    "\n",
    "# Calculate kurtosis\n",
    "kurt_norm = kurtosis(data['normal_dist'], fisher=False)\n",
    "kurt_laplace = kurtosis(data['heavy_tailed'], fisher=False)\n",
    "\n",
    "print(f\"Normal Distribution Kurtosis: {kurt_norm:.2f}\")\n",
    "print(f\"Laplace Distribution Kurtosis: {kurt_laplace:.2f}\")\n",
    "# Visual comparison\n",
    "sns.kdeplot(data['normal_dist'], label=\"Normal\", fill=True)\n",
    "sns.kdeplot(data['heavy_tailed'], label=\"Laplace\", fill=True)\n",
    "plt.title(\"Kurtosis Comparison: Normal vs Heavy-Tailed\")\n",
    "plt.legend()\n",
    "plt.show()\n"
   ],
   "id": "798835949ae4a62c",
   "outputs": [
    {
     "name": "stdout",
     "output_type": "stream",
     "text": [
      "Normal Distribution Kurtosis: 2.95\n",
      "Laplace Distribution Kurtosis: 6.22\n"
     ]
    },
    {
     "data": {
      "text/plain": [
       "<Figure size 640x480 with 1 Axes>"
      ],
      "image/png": "[encoded data removed]"
     },
     "metadata": {},
     "output_type": "display_data"
    }
   ],
   "execution_count": 4
  },
  {
   "metadata": {
    "ExecuteTime": {
     "end_time": "2025-07-25T05:00:34.502446Z",
     "start_time": "2025-07-25T05:00:34.133355Z"
    }
   },
   "cell_type": "code",
   "source": [
    "#Z-Score & Outlier Detection\n",
    "# Generate synthetic data\n",
    "from scipy.stats import zscore\n",
    "np.random.seed(1)\n",
    "data = pd.DataFrame({\n",
    "    'values': np.random.normal(loc=100, scale=15, size=1000)\n",
    "})\n",
    "\n",
    "# Calculate Z-scores\n",
    "data['z_score'] = zscore(data['values'])\n",
    "\n",
    "# Tag outliers: beyond ±3\n",
    "data['outlier'] = data['z_score'].apply(lambda x: 'Outlier' if abs(x) > 3 else 'Normal')\n",
    "\n",
    "# Display Z-score summary\n",
    "print(data[['values', 'z_score', 'outlier']].head())\n",
    "\n",
    "# Visualize Z-score distribution\n",
    "sns.histplot(data, x='z_score', hue='outlier', bins=30, palette={'Normal': 'blue', 'Outlier': 'red'})\n",
    "plt.axvline(3, color='red', linestyle='--')\n",
    "plt.axvline(-3, color='red', linestyle='--')\n",
    "plt.title(\"Z-Score Distribution with Outliers\")\n",
    "plt.show()"
   ],
   "id": "6ec64e3ab728a95b",
   "outputs": [
    {
     "name": "stdout",
     "output_type": "stream",
     "text": [
      "       values   z_score outlier\n",
      "0  124.365180  1.616235  Normal\n",
      "1   90.823654 -0.663166  Normal\n",
      "2   92.077424 -0.577963  Normal\n",
      "3   83.905471 -1.133309  Normal\n",
      "4  112.981114  0.842601  Normal\n"
     ]
    },
    {
     "data": {
      "text/plain": [
       "<Figure size 640x480 with 1 Axes>"
      ],
      "image/png": "[encoded data removed]"
     },
     "metadata": {},
     "output_type": "display_data"
    }
   ],
   "execution_count": 6
  },
  {
   "metadata": {},
   "cell_type": "markdown",
   "source": [
    "# 🧠 Applied Statistics Journey — Shiva\n",
    "\n",
    "This repository documents my hands-on learning and mastery of core **Applied Statistics** concepts, tools, and real-world intuition — designed for use in **data analysis, business decision-making, and ML modeling**.\n",
    "\n",
    "---\n",
    "\n",
    "## 📌 Core Concepts Covered\n",
    "\n",
    "| Concept Group              | Topics                                                                 |\n",
    "|---------------------------|------------------------------------------------------------------------|\n",
    "| 📊 Probability             | Empirical Probability, Random Events, Simulations                     |\n",
    "| 📈 Distributions           | Binomial, Poisson, Uniform, Normal, Exponential                       |\n",
    "| 🧩 PDF / PMF / CDF         | Visualized and implemented using NumPy & Seaborn                      |\n",
    "| 📍 Central Tendency        | Mean, Median, Mode (with business use cases)                          |\n",
    "| 🎯 Dispersion              | Variance, Standard Deviation                                           |\n",
    "| 🔁 Shape of Distribution   | Skewness, Kurtosis                                                     |\n",
    "| 🚨 Standardization         |\n",
    "\n",
    "---\n",
    "\n",
    "## 🛠 Tools & Libraries Used\n",
    "\n",
    "- **Python**\n",
    "- **NumPy**: Statistical calculations and simulations\n",
    "- **Pandas**: DataFrame-based EDA and transformations\n",
    "- **SciPy**: Scientific and statistical functions (`scipy.stats`)\n",
    "- **Matplotlib / Seaborn**: Visual diagnostics and distributions\n",
    "\n",
    "---\n",
    "\n",
    "## ✅ Key Learning Strategies\n",
    "\n",
    "- 📓 Manual notes for concept retention\n",
    "- 📊 Code-first approach using PyCharm\n",
    "- 📤 Code and results versioned here for future ML use\n",
    "- 🧠 Real-world interpretation of every stat — business-first mindset\n",
    "- 🧪 Using multiple libraries (NumPy, SciPy) for cross-verification\n",
    "\n",
    "---\n",
    "\n",
    "## 🚀 What’s Coming Next\n",
    "\n",
    "> The learning is structured in two phases:\n",
    "- **Phase 1 – Core Stats (Current)**\n",
    "- **Phase 2 – Hypothesis Testing, Confidence Intervals, A/B Testing, ANOVA, Power Analysis**\n",
    "\n",
    "Post that, this repo will serve as a **foundation for Machine Learning explainability and model evaluation**.\n",
    "\n",
    "---\n",
    "\n"
   ],
   "id": "24aac3a58582a213"
  }
 ],
 "metadata": {
  "kernelspec": {
   "display_name": "Python 3",
   "language": "python",
   "name": "python3"
  },
  "language_info": {
   "codemirror_mode": {
    "name": "ipython",
    "version": 2
   },
   "file_extension": ".py",
   "mimetype": "text/x-python",
   "name": "python",
   "nbconvert_exporter": "python",
   "pygments_lexer": "ipython2",
   "version": "2.7.6"
  }
 },
 "nbformat": 4,
 "nbformat_minor": 5
}
